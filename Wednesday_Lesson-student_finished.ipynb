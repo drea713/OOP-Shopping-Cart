{
 "cells": [
  {
   "cell_type": "markdown",
   "metadata": {},
   "source": [
    "## Creating a Class (Initializing/Declaring)\n",
    "<p>When creating a class, function, or even a variable you are initializing that object. Initializing and Declaring occur at the same time in Python, whereas in lower level languages you have to declare an object before initializing it. This is the first step in the process of using a class.</p>"
   ]
  },
  {
   "cell_type": "markdown",
   "metadata": {},
   "source": [
    "# Python data types\n",
    "\n",
    "int<br>\n",
    "list- data collection that can hold multiple data types<br> \n",
    "array- data collection that can hold singular data types<br> \n",
    "tuple<br>\n",
    "str<br>\n",
    "dict<br>\n",
    "set<br>\n",
    "float<br>"
   ]
  },
  {
   "cell_type": "code",
   "execution_count": 47,
   "metadata": {},
   "outputs": [],
   "source": [
    "class Car(object):\n",
    "    # class attributes\n",
    "    year = 2019\n",
    "    make = 'Chevrolet'\n",
    "    model = 'Corvette'"
   ]
  },
  {
   "cell_type": "markdown",
   "metadata": {},
   "source": [
    "## Using a Class (Instantiating)\n",
    "<p>The process of creating a class is called <i>Instantiating</i>. Each time you create a variable of that type of class, it is referred to as an <i>Instance</i> of that class. This is the second step in the process of using a class.</p>"
   ]
  },
  {
   "cell_type": "markdown",
   "metadata": {},
   "source": [
    "##### Creating One Instance"
   ]
  },
  {
   "cell_type": "code",
   "execution_count": 49,
   "metadata": {},
   "outputs": [],
   "source": [
    "car1 = Car()"
   ]
  },
  {
   "cell_type": "markdown",
   "metadata": {},
   "source": [
    "##### Creating Multiple Instances"
   ]
  },
  {
   "cell_type": "code",
   "execution_count": 3,
   "metadata": {},
   "outputs": [],
   "source": [
    "car2 = Car()\n",
    "car3 = Car()"
   ]
  },
  {
   "cell_type": "markdown",
   "metadata": {},
   "source": [
    "##### In-Class Exercise #1 - Create a Class 'Car' with 3 attributes (car, make, model) and Instantiate three different instances of cars"
   ]
  },
  {
   "cell_type": "code",
   "execution_count": null,
   "metadata": {},
   "outputs": [],
   "source": [
    "# Exercise here"
   ]
  },
  {
   "cell_type": "code",
   "execution_count": null,
   "metadata": {},
   "outputs": [],
   "source": []
  },
  {
   "cell_type": "markdown",
   "metadata": {},
   "source": [
    "## The \\__init\\__() Method <br>\n",
    "<p>This method is used in almost every created class, and called only once upon the creation of the class instance. This method will initialize all variables needed for the object.</p>"
   ]
  },
  {
   "cell_type": "code",
   "execution_count": null,
   "metadata": {},
   "outputs": [],
   "source": [
    "# Special Methods, Dunder (double-underscore)"
   ]
  },
  {
   "cell_type": "markdown",
   "metadata": {},
   "source": [
    "##### The 'self' Attribute <br>\n",
    "<p>This attribute is required to keep track of specific instance's attributes. Without the self attribute, the program would not know how to reference or keep track of an instance's attributes.</p>"
   ]
  },
  {
   "cell_type": "code",
   "execution_count": 16,
   "metadata": {},
   "outputs": [],
   "source": [
    "class Car:\n",
    "    # Overrides the default functionality of an object's instantiation\n",
    "    def __init__(self, year, model, make):\n",
    "        self.year = year\n",
    "        self.model = model\n",
    "        self.make = make\n",
    "        \n",
    "c4 = Car(2018, 'Tahoe', 'Chevy')\n",
    "c5 = Car(2016, 'Cruze', 'Chevy')"
   ]
  },
  {
   "cell_type": "markdown",
   "metadata": {},
   "source": [
    "## Class Attributes <br>\n",
    "<p>While variables are inside of a class, they are referred to as attributes and not variables. When someone says 'attribute' you know they're speaking about a class. Attributes can be initialized through the init method, or outside of it.</p>"
   ]
  },
  {
   "cell_type": "code",
   "execution_count": null,
   "metadata": {},
   "outputs": [],
   "source": [
    "# Class attributes - attributes defined in the class, outside of the __init__ special method\n",
    "# Instances attributes - attributes defined using self"
   ]
  },
  {
   "cell_type": "markdown",
   "metadata": {},
   "source": [
    "##### Initializing Attributes"
   ]
  },
  {
   "cell_type": "code",
   "execution_count": 31,
   "metadata": {},
   "outputs": [],
   "source": [
    "class Dog:\n",
    "    legs = 4\n",
    "    \n",
    "    def __init__(self, breed, fur):\n",
    "        self.breed = breed\n",
    "        self.fur = fur"
   ]
  },
  {
   "cell_type": "markdown",
   "metadata": {},
   "source": [
    "##### Setting an Attribute Outside of the \\__init\\__() Method"
   ]
  },
  {
   "cell_type": "markdown",
   "metadata": {},
   "source": [
    "##### Setting Defaults for Attributes"
   ]
  },
  {
   "cell_type": "markdown",
   "metadata": {},
   "source": [
    "##### Accessing Class Attributes"
   ]
  },
  {
   "cell_type": "code",
   "execution_count": 32,
   "metadata": {},
   "outputs": [
    {
     "name": "stdout",
     "output_type": "stream",
     "text": [
      "4\n"
     ]
    },
    {
     "data": {
      "text/plain": [
       "4"
      ]
     },
     "execution_count": 32,
     "metadata": {},
     "output_type": "execute_result"
    }
   ],
   "source": [
    "d1 = Dog('Yorkshire Terrier', 'black/brown')\n",
    "print(d1.legs)\n",
    "\n",
    "d2 = Dog('Poodle', 'white')\n",
    "d2.legs"
   ]
  },
  {
   "cell_type": "code",
   "execution_count": 33,
   "metadata": {},
   "outputs": [
    {
     "name": "stdout",
     "output_type": "stream",
     "text": [
      "4\n",
      "4\n"
     ]
    }
   ],
   "source": [
    "class Dog:\n",
    "    def __init__(self, breed, fur):\n",
    "        self.breed = breed\n",
    "        self.fur = fur\n",
    "        self.legs = 4\n",
    "        \n",
    "d1 = Dog('Yorkshire Terrier', 'black/brown')\n",
    "print(d1.legs)\n",
    "\n",
    "d2 = Dog('Poodle', 'white')\n",
    "print(d2.legs)"
   ]
  },
  {
   "cell_type": "code",
   "execution_count": 36,
   "metadata": {},
   "outputs": [
    {
     "name": "stdout",
     "output_type": "stream",
     "text": [
      "4\n",
      "4\n"
     ]
    }
   ],
   "source": [
    "class Dog:\n",
    "    def __init__(self, breed, fur, legs=4):\n",
    "        self.breed = breed\n",
    "        self.fur = fur\n",
    "        self.legs = legs\n",
    "        self.something = (1, 2, 3)\n",
    "        \n",
    "d1 = Dog('Yorkshire Terrier', 'black/brown')\n",
    "print(d1.legs)\n",
    "\n",
    "d2 = Dog('Poodle', 'white')\n",
    "print(d2.legs)"
   ]
  },
  {
   "cell_type": "markdown",
   "metadata": {},
   "source": [
    "##### Changing Class Attributes"
   ]
  },
  {
   "cell_type": "code",
   "execution_count": 41,
   "metadata": {
    "scrolled": true
   },
   "outputs": [
    {
     "ename": "TypeError",
     "evalue": "'tuple' object does not support item assignment",
     "output_type": "error",
     "traceback": [
      "\u001b[0;31m---------------------------------------------------------------------------\u001b[0m",
      "\u001b[0;31mTypeError\u001b[0m                                 Traceback (most recent call last)",
      "\u001b[0;32m<ipython-input-41-7bc187159edf>\u001b[0m in \u001b[0;36m<module>\u001b[0;34m\u001b[0m\n\u001b[0;32m----> 1\u001b[0;31m \u001b[0md2\u001b[0m\u001b[0;34m.\u001b[0m\u001b[0msomething\u001b[0m\u001b[0;34m[\u001b[0m\u001b[0;36m3\u001b[0m\u001b[0;34m]\u001b[0m \u001b[0;34m=\u001b[0m \u001b[0;36m5\u001b[0m\u001b[0;34m\u001b[0m\u001b[0;34m\u001b[0m\u001b[0m\n\u001b[0m",
      "\u001b[0;31mTypeError\u001b[0m: 'tuple' object does not support item assignment"
     ]
    }
   ],
   "source": [
    "d2.something[3] = 5"
   ]
  },
  {
   "cell_type": "markdown",
   "metadata": {},
   "source": [
    "##### In-Class Exercise #2 - Add a color and wheels attribute to your 'Car' class"
   ]
  },
  {
   "cell_type": "code",
   "execution_count": 46,
   "metadata": {},
   "outputs": [
    {
     "name": "stdout",
     "output_type": "stream",
     "text": [
      "{'year': 2018, 'model': 'Tahoe', 'make': 'Chevy', 'color': 'black'}\n",
      "dict_items([('year', 2016), ('model', 'Cruze'), ('make', 'Chevy'), ('color', 'red')])\n"
     ]
    }
   ],
   "source": [
    "class Car:\n",
    "    wheels = 4\n",
    "    \n",
    "    def __init__(self, year, model, make, color):\n",
    "        self.year = year\n",
    "        self.model = model\n",
    "        self.make = make\n",
    "        self.color = color\n",
    "        \n",
    "c4 = Car(2018, 'Tahoe', 'Chevy', 'black')\n",
    "c5 = Car(2016, 'Cruze', 'Chevy', 'red')\n",
    "print(c4.__dict__)\n",
    "print(c5.__dict__.items())"
   ]
  },
  {
   "cell_type": "markdown",
   "metadata": {},
   "source": [
    "## Class Methods <br>\n",
    "<p>While inside of a class, functions are referred to as 'methods'. If you hear someone mention methods, they're speaking about classes. Methods are essentially functions, but only callable on the instances of a class.</p>"
   ]
  },
  {
   "cell_type": "markdown",
   "metadata": {},
   "source": [
    "##### Creating"
   ]
  },
  {
   "cell_type": "code",
   "execution_count": null,
   "metadata": {},
   "outputs": [],
   "source": [
    "# ALL METHODS ARE FUNCTIONS, BUT NOT ALL FUNCTIONS ARE METHODS\n",
    "\n",
    "# print()\n",
    "# str()\n",
    "# list()\n",
    "\n",
    "# obj.something()"
   ]
  },
  {
   "cell_type": "code",
   "execution_count": 68,
   "metadata": {},
   "outputs": [],
   "source": [
    "class Car:\n",
    "    wheels = 4\n",
    "    \n",
    "    def __init__(self, year, model, make, color):\n",
    "        self.year = year\n",
    "        self.model = model\n",
    "        self.make = make\n",
    "        self.color = color\n",
    "        \n",
    "    def show_info(self):\n",
    "        # Print all the car's information to a  formatted\n",
    "        print(f'I have a {self.color} {self.year} {self.make} {self.model}')\n",
    "        \n",
    "    def drive(self):\n",
    "        print(\"Vroom!\")\n",
    "        \n",
    "c4 = Car(2018, 'Tahoe', 'Chevy', 'black')\n",
    "c5 = Car(2016, 'Cruze', 'Chevy', 'red')"
   ]
  },
  {
   "cell_type": "markdown",
   "metadata": {},
   "source": [
    "##### Calling"
   ]
  },
  {
   "cell_type": "code",
   "execution_count": 69,
   "metadata": {},
   "outputs": [
    {
     "name": "stdout",
     "output_type": "stream",
     "text": [
      "I have a black 2018 Chevy Tahoe\n",
      "Vroom!\n"
     ]
    }
   ],
   "source": [
    "c4.show_info()\n",
    "c4.drive()"
   ]
  },
  {
   "cell_type": "code",
   "execution_count": 76,
   "metadata": {},
   "outputs": [],
   "source": [
    "class Car:\n",
    "    wheels = 4\n",
    "    \n",
    "    def __init__(self, year, model, make, color):\n",
    "        self.year = year\n",
    "        self.model = model\n",
    "        self.make = make\n",
    "        self.color = color\n",
    "       \n",
    "    # convention for getters\n",
    "    def get_year(self):\n",
    "        return self.year\n",
    "    \n",
    "    def get_model(self):\n",
    "        return self.model\n",
    "    \n",
    "    # convention for setters\n",
    "    def set_year(self, year):\n",
    "        self.year = year\n",
    "\n",
    "    def set_model(self, model):\n",
    "        self.model = model\n",
    "        \n",
    "    def show_info(self):\n",
    "        # Print all the car's information to a  formatted\n",
    "        print(f'I have a {self.color} {self.year} {self.make} {self.model}')\n",
    "        \n",
    "    def drive(self):\n",
    "        print(\"Vroom!\")\n",
    "        \n",
    "c4 = Car(2018, 'Tahoe', 'Chevy', 'black')\n",
    "c5 = Car(2016, 'Cruze', 'Chevy', 'red')\n"
   ]
  },
  {
   "cell_type": "markdown",
   "metadata": {},
   "source": [
    "##### Modifying an Attribute's Value Through a Method"
   ]
  },
  {
   "cell_type": "code",
   "execution_count": 79,
   "metadata": {},
   "outputs": [
    {
     "name": "stdout",
     "output_type": "stream",
     "text": [
      "Tahoe\n",
      "Nova\n"
     ]
    }
   ],
   "source": [
    "print(c4.get_model())\n",
    "c4.set_model('Nova')\n",
    "print(c4.get_model())"
   ]
  },
  {
   "cell_type": "markdown",
   "metadata": {},
   "source": [
    "##### Incrementing an Attribute's Value Through a Method"
   ]
  },
  {
   "cell_type": "code",
   "execution_count": 83,
   "metadata": {},
   "outputs": [],
   "source": [
    "class Car:\n",
    "    wheels = 4\n",
    "    \n",
    "    def __init__(self, year, model, make, color):\n",
    "        self.year = year\n",
    "        self.model = model\n",
    "        self.make = make\n",
    "        self.color = color\n",
    "        self.miles = 0\n",
    "       \n",
    "    # convention for getters\n",
    "    def get_year(self):\n",
    "        return self.year\n",
    "    \n",
    "    def get_model(self):\n",
    "        return self.model\n",
    "    \n",
    "    def get_mileage(self):\n",
    "        return self.miles\n",
    "    \n",
    "    # convention for setters\n",
    "    def set_year(self, year):\n",
    "        self.year = year\n",
    "\n",
    "    def set_model(self, model):\n",
    "        self.model = model\n",
    "        \n",
    "    def show_info(self):\n",
    "        # Print all the car's information to a  formatted\n",
    "        print(f'I have a {self.color} {self.year} {self.make} {self.model}')\n",
    "        \n",
    "    def drive_to_work(self):\n",
    "        self.miles += 20\n",
    "        # self.miles = self.miles + 20\n",
    "        \n",
    "    def go_home(self):\n",
    "        self.miles += 30\n",
    "        \n",
    "c4 = Car(2018, 'Tahoe', 'Chevy', 'black')\n",
    "c5 = Car(2016, 'Cruze', 'Chevy', 'red')"
   ]
  },
  {
   "cell_type": "markdown",
   "metadata": {},
   "source": [
    "##### In-Class Exercise #3 - Add a method that prints the cars color and wheel number, then call them"
   ]
  },
  {
   "cell_type": "code",
   "execution_count": 91,
   "metadata": {},
   "outputs": [
    {
     "data": {
      "text/plain": [
       "4"
      ]
     },
     "execution_count": 91,
     "metadata": {},
     "output_type": "execute_result"
    }
   ],
   "source": [
    "class Car:\n",
    "    wheels = 4\n",
    "    \n",
    "    def __init__(self, year, model, make, color):\n",
    "        self.year = year\n",
    "        self.model = model\n",
    "        self.make = make\n",
    "        self.color = color\n",
    "        self.miles = 0\n",
    "       \n",
    "    # convention for getters\n",
    "    def get_year(self):\n",
    "        return self.year\n",
    "    \n",
    "    def get_model(self):\n",
    "        return self.model\n",
    "    \n",
    "    def get_mileage(self):\n",
    "        return self.miles\n",
    "    \n",
    "    def get_color(self):\n",
    "        return self.color\n",
    "    \n",
    "    @classmethod\n",
    "    def get_wheels(cls):\n",
    "        return cls.wheels\n",
    "    \n",
    "    # convention for setters\n",
    "    def set_year(self, year):\n",
    "        self.year = year\n",
    "\n",
    "    def set_model(self, model):\n",
    "        self.model = model\n",
    "        \n",
    "    def show_info(self):\n",
    "        # Print all the car's information to a  formatted\n",
    "        print(f'I have a {self.color} {self.year} {self.make} {self.model}')\n",
    "        \n",
    "    def drive_to_work(self):\n",
    "        self.miles += 20\n",
    "        # self.miles = self.miles + 20\n",
    "        \n",
    "    def go_home(self):\n",
    "        self.miles += 30\n",
    "        \n",
    "c4 = Car(2018, 'Tahoe', 'Chevy', 'black')\n",
    "c5 = Car(2016, 'Cruze', 'Chevy', 'red')\n",
    "\n",
    "c4.get_color()\n",
    "c4.get_wheels()"
   ]
  },
  {
   "cell_type": "markdown",
   "metadata": {},
   "source": [
    "## Inheritance <br>\n",
    "<p>You can create a child-parent relationship between two classes by using inheritance. What this allows you to do is have overriding methods, but also inherit traits from the parent class. Think of it as an actual parent and child, the child will inherit the parent's genes, as will the classes in OOP</p>"
   ]
  },
  {
   "cell_type": "markdown",
   "metadata": {},
   "source": [
    "##### Syntax for Inheriting from a Parent Class"
   ]
  },
  {
   "cell_type": "code",
   "execution_count": 92,
   "metadata": {},
   "outputs": [],
   "source": [
    "class Animalia:\n",
    "    legs = 4\n",
    "    \n",
    "class Phylum(Animalia):\n",
    "    fur = 'orange'\n",
    "    \n",
    "class Class(Phylum):\n",
    "    noise = 'howl'"
   ]
  },
  {
   "cell_type": "code",
   "execution_count": 99,
   "metadata": {
    "scrolled": true
   },
   "outputs": [
    {
     "data": {
      "text/plain": [
       "'red'"
      ]
     },
     "execution_count": 99,
     "metadata": {},
     "output_type": "execute_result"
    }
   ],
   "source": [
    "c = Class()\n",
    "c.fur = 'red'\n",
    "c.fur"
   ]
  },
  {
   "cell_type": "code",
   "execution_count": 104,
   "metadata": {},
   "outputs": [],
   "source": [
    "class Vehicle:\n",
    "    def __init__(self, wheels):\n",
    "        self.wheels = wheels\n",
    "    \n",
    "\n",
    "class Bike(Vehicle):\n",
    "    pass\n",
    "\n",
    "class Car(Vehicle):\n",
    "    def __init__(self, year, model, make, color):\n",
    "        self.year = year\n",
    "        self.model = model\n",
    "        self.make = make\n",
    "        self.color = color\n",
    "        self.miles = 0\n",
    "       \n",
    "    # convention for getters\n",
    "    def get_year(self):\n",
    "        return self.year\n",
    "    \n",
    "    def get_model(self):\n",
    "        return self.model\n",
    "    \n",
    "    def get_mileage(self):\n",
    "        return self.miles\n",
    "    \n",
    "    def get_color(self):\n",
    "        return self.color\n",
    "    \n",
    "    @classmethod\n",
    "    def get_wheels(cls):\n",
    "        return cls.wheels\n",
    "    \n",
    "    # convention for setters\n",
    "    def set_year(self, year):\n",
    "        self.year = year\n",
    "\n",
    "    def set_model(self, model):\n",
    "        self.model = model\n",
    "        \n",
    "    def show_info(self):\n",
    "        # Print all the car's information to a  formatted\n",
    "        print(f'I have a {self.color} {self.year} {self.make} {self.model}')\n",
    "        \n",
    "    def drive_to_work(self):\n",
    "        self.miles += 20\n",
    "        # self.miles = self.miles + 20\n",
    "        \n",
    "    def go_home(self):\n",
    "        self.miles += 30"
   ]
  },
  {
   "cell_type": "markdown",
   "metadata": {},
   "source": [
    "##### The \\__init\\__() Method for a Child Class - super()"
   ]
  },
  {
   "cell_type": "code",
   "execution_count": 145,
   "metadata": {},
   "outputs": [],
   "source": [
    "class Vehicle:\n",
    "    def __init__(self, wheels, a, b, c, d, e):\n",
    "        self.wheels = wheels\n",
    "        self.a = a\n",
    "        self.b = b\n",
    "        self.c = c\n",
    "        self.d = d\n",
    "        self.e = e\n",
    "\n",
    "class Bike(Vehicle):\n",
    "    pass\n",
    "\n",
    "class Car(Vehicle):\n",
    "    info = 'car'\n",
    "    \n",
    "    def __init__(self, year, model, make, color, wheels, a, b, c, d, e):\n",
    "        # Vehicle.__init__(self, wheels, a, b, c, d, e)\n",
    "        super().__init__(wheels, a, b, c, d, e)\n",
    "        self.year = year\n",
    "        self.model = model\n",
    "        self.make = make\n",
    "        self.color = color\n",
    "        self.miles = 0\n",
    "       \n",
    "    # convention for getters\n",
    "    def get_year(self):\n",
    "        return self.year\n",
    "    \n",
    "    def get_model(self):\n",
    "        return self.model\n",
    "    \n",
    "    def get_mileage(self):\n",
    "        return self.miles\n",
    "    \n",
    "    def get_color(self):\n",
    "        return self.color\n",
    "    \n",
    "    @classmethod\n",
    "    def get_wheels(cls):\n",
    "        return cls.wheels\n",
    "    \n",
    "    # convention for setters\n",
    "    def set_year(self, year):\n",
    "        self.year = year\n",
    "\n",
    "    def set_model(self, model):\n",
    "        self.model = model\n",
    "        \n",
    "    def show_info(self):\n",
    "        # Print all the car's information to a  formatted\n",
    "        print(f'I have a {self.color} {self.year} {self.make} {self.model}')\n",
    "        \n",
    "    def drive_to_work(self):\n",
    "        self.miles += 20\n",
    "        # self.miles = self.miles + 20\n",
    "        \n",
    "    def go_home(self):\n",
    "        self.miles += 30"
   ]
  },
  {
   "cell_type": "markdown",
   "metadata": {},
   "source": [
    "##### Defining Attributes and Methods for the Child Class"
   ]
  },
  {
   "cell_type": "code",
   "execution_count": 150,
   "metadata": {},
   "outputs": [
    {
     "ename": "AttributeError",
     "evalue": "'Vehicle' object has no attribute 'info'",
     "output_type": "error",
     "traceback": [
      "\u001b[0;31m---------------------------------------------------------------------------\u001b[0m",
      "\u001b[0;31mAttributeError\u001b[0m                            Traceback (most recent call last)",
      "\u001b[0;32m<ipython-input-150-685b155ee5d7>\u001b[0m in \u001b[0;36m<module>\u001b[0;34m\u001b[0m\n\u001b[1;32m      1\u001b[0m \u001b[0mc4\u001b[0m \u001b[0;34m=\u001b[0m \u001b[0mCar\u001b[0m\u001b[0;34m(\u001b[0m\u001b[0;36m2018\u001b[0m\u001b[0;34m,\u001b[0m \u001b[0;34m'Tahoe'\u001b[0m\u001b[0;34m,\u001b[0m \u001b[0;34m'Chevy'\u001b[0m\u001b[0;34m,\u001b[0m \u001b[0;34m'black'\u001b[0m\u001b[0;34m,\u001b[0m \u001b[0;36m4\u001b[0m\u001b[0;34m,\u001b[0m \u001b[0;36m1\u001b[0m\u001b[0;34m,\u001b[0m \u001b[0;36m2\u001b[0m\u001b[0;34m,\u001b[0m \u001b[0;36m3\u001b[0m\u001b[0;34m,\u001b[0m \u001b[0;36m4\u001b[0m\u001b[0;34m,\u001b[0m \u001b[0;36m5\u001b[0m\u001b[0;34m)\u001b[0m\u001b[0;34m\u001b[0m\u001b[0;34m\u001b[0m\u001b[0m\n\u001b[0;32m----> 2\u001b[0;31m \u001b[0mVehicle\u001b[0m\u001b[0;34m(\u001b[0m\u001b[0;36m4\u001b[0m\u001b[0;34m,\u001b[0m \u001b[0;36m1\u001b[0m\u001b[0;34m,\u001b[0m \u001b[0;36m2\u001b[0m\u001b[0;34m,\u001b[0m \u001b[0;36m3\u001b[0m\u001b[0;34m,\u001b[0m \u001b[0;36m4\u001b[0m\u001b[0;34m,\u001b[0m \u001b[0;36m5\u001b[0m\u001b[0;34m)\u001b[0m\u001b[0;34m.\u001b[0m\u001b[0minfo\u001b[0m\u001b[0;34m\u001b[0m\u001b[0;34m\u001b[0m\u001b[0m\n\u001b[0m",
      "\u001b[0;31mAttributeError\u001b[0m: 'Vehicle' object has no attribute 'info'"
     ]
    }
   ],
   "source": [
    "c4 = Car(2018, 'Tahoe', 'Chevy', 'black', 4, 1, 2, 3, 4, 5)\n",
    "Vehicle(4, 1, 2, 3, 4, 5).info"
   ]
  },
  {
   "cell_type": "markdown",
   "metadata": {},
   "source": [
    "##### Method Overriding"
   ]
  },
  {
   "cell_type": "code",
   "execution_count": 178,
   "metadata": {},
   "outputs": [
    {
     "name": "stdout",
     "output_type": "stream",
     "text": [
      "Hamada @4\n"
     ]
    }
   ],
   "source": [
    "class Bike():\n",
    "    def __init__(self, make, wheels):\n",
    "        self.make = make\n",
    "        self.wheels = wheels\n",
    "        \n",
    "    def __repr__(self):\n",
    "        return f'<Bike: {self.wheels}>'\n",
    "    \n",
    "    def __str__(self):\n",
    "        return f'{self.make} @{self.wheels}'\n",
    "        \n",
    "b = Bike('Hamada', 4)\n",
    "print(b)\n",
    "# b.wheels"
   ]
  },
  {
   "cell_type": "markdown",
   "metadata": {},
   "source": [
    "##### In-Class Exercise #4 - Create a class 'Ford' that inherits from 'Car' class and initialize it as a Blue Ford Explorer with 4 wheels using the super() function"
   ]
  },
  {
   "cell_type": "code",
   "execution_count": null,
   "metadata": {},
   "outputs": [],
   "source": [
    "# Exercise here"
   ]
  },
  {
   "cell_type": "code",
   "execution_count": null,
   "metadata": {},
   "outputs": [],
   "source": []
  },
  {
   "cell_type": "code",
   "execution_count": 1,
   "metadata": {},
   "outputs": [],
   "source": [
    "class Vehicle:\n",
    "    def __init__(self, wheels, a, b, c, d, e):\n",
    "        self.wheels = wheels\n",
    "        self.a = a\n",
    "        self.b = b\n",
    "        self.c = c\n",
    "        self.d = d\n",
    "        self.e = e\n",
    "\n",
    "class Bike(Vehicle):\n",
    "    pass\n",
    "\n",
    "class Car(Vehicle):\n",
    "    info = 'car'\n",
    "    \n",
    "    def __init__(self, year, model, make, color, wheels, a, b, c, d, e):\n",
    "        # Vehicle.__init__(self, wheels, a, b, c, d, e)\n",
    "        super().__init__(wheels, a, b, c, d, e)\n",
    "        self.year = year\n",
    "        self.model = model\n",
    "        self.make = make\n",
    "        self.color = color\n",
    "        self.miles = 0\n",
    "       \n",
    "    # convention for getters\n",
    "    def get_year(self):\n",
    "        return self.year\n",
    "    \n",
    "    def get_model(self):\n",
    "        return self.model\n",
    "    \n",
    "    def get_mileage(self):\n",
    "        return self.miles\n",
    "    \n",
    "    def get_color(self):\n",
    "        return self.color\n",
    "    \n",
    "    @classmethod\n",
    "    def get_wheels(cls):\n",
    "        return cls.wheels\n",
    "    \n",
    "    # convention for setters\n",
    "    def set_year(self, year):\n",
    "        self.year = year\n",
    "\n",
    "    def set_model(self, model):\n",
    "        self.model = model\n",
    "        \n",
    "    def show_info(self):\n",
    "        # Print all the car's information to a  formatted\n",
    "        print(f'I have a {self.color} {self.year} {self.make} {self.model}')\n",
    "        \n",
    "    def drive_to_work(self):\n",
    "        self.miles += 20\n",
    "        # self.miles = self.miles + 20\n",
    "        \n",
    "    def go_home(self):\n",
    "        self.miles += 30"
   ]
  },
  {
   "cell_type": "markdown",
   "metadata": {},
   "source": [
    "## Classes as Attributes <br>\n",
    "<p>Classes can also be used as attributes within another class. This is useful in situations where you need to keep variables locally stored, instead of globally stored.</p>"
   ]
  },
  {
   "cell_type": "code",
   "execution_count": 212,
   "metadata": {},
   "outputs": [
    {
     "data": {
      "text/plain": [
       "6"
      ]
     },
     "execution_count": 212,
     "metadata": {},
     "output_type": "execute_result"
    }
   ],
   "source": [
    "class Battery:\n",
    "    def __init__(self, cells=6):\n",
    "        self.cells = cells\n",
    "        \n",
    "    def __repr__(self):\n",
    "        return f'<Battery: {self.cells}>'\n",
    "        \n",
    "class Car:\n",
    "    def __init__(self, year, make, model, color):\n",
    "        self.year = year\n",
    "        self.make = make\n",
    "        self.model = model\n",
    "        self.color = color\n",
    "        self.battery = Battery()\n",
    "        \n",
    "    def get_info(self):\n",
    "        return f\"I have a {self.year} {self.make} {self.model} and it's {self.color}!\"\n",
    "    \n",
    "c8 = Car(2016, 'Toyota', 'Prius', 'Tan')\n",
    "# c8.__dict__\n",
    "c8.battery.cells"
   ]
  },
  {
   "cell_type": "code",
   "execution_count": 215,
   "metadata": {
    "scrolled": true
   },
   "outputs": [
    {
     "name": "stdout",
     "output_type": "stream",
     "text": [
      "HelloQWERTY\n"
     ]
    },
    {
     "data": {
      "text/plain": [
       "<__main__.CartItem at 0x7f241f13a0a0>"
      ]
     },
     "execution_count": 215,
     "metadata": {},
     "output_type": "execute_result"
    }
   ],
   "source": [
    "class Cart:\n",
    "    pass\n",
    "\n",
    "class CartItem:\n",
    "    def __init__(self, greeting):\n",
    "        self.greeting = greeting\n",
    "\n",
    "data = input('Hello')\n",
    "c = CartItem(data)\n",
    "c"
   ]
  },
  {
   "cell_type": "code",
   "execution_count": 222,
   "metadata": {},
   "outputs": [
    {
     "data": {
      "text/plain": [
       "[<Student: jeromea@codingtemple.com>,\n",
       " <Student: yemib@codingtemple.com>,\n",
       " <Student: autumnc@codingtemple.com>,\n",
       " <Student: joshd@codingtemple.com>]"
      ]
     },
     "execution_count": 222,
     "metadata": {},
     "output_type": "execute_result"
    }
   ],
   "source": [
    "names = ['Jerome Aye', 'Yemi Bee', 'Autumn Cee', 'Josh Dee']\n",
    "\n",
    "class Student:\n",
    "    def __init__(self, name):\n",
    "        self.first_name = name.split(' ')[0]\n",
    "        self.last_name = name.split(' ')[1]\n",
    "        self.email = f'{self.first_name}{self.last_name[0]}@codingtemple.com'.lower()\n",
    "        self.laptop = 'MacBook'\n",
    "        \n",
    "    def __repr__(self):\n",
    "        return f'<Student: {self.email}>'"
   ]
  },
  {
   "cell_type": "markdown",
   "metadata": {},
   "source": [
    "# Exercise"
   ]
  },
  {
   "cell_type": "markdown",
   "metadata": {},
   "source": [
    "### Turn the shopping cart program from yesterday into an object-oriented program"
   ]
  },
  {
   "cell_type": "code",
   "execution_count": 1,
   "metadata": {
    "scrolled": false
   },
   "outputs": [
    {
     "name": "stdout",
     "output_type": "stream",
     "text": [
      "\n",
      "Enter the type of groceries you would like to add in your shopping cart.\n",
      "(Enter 'quit' when you are finished.) andrea\n",
      "I will add andrea to your shopping cart!\n",
      "\n",
      "The following groceries have been added to your cart:\n",
      "Andrea\n",
      "\n",
      "Enter the type of groceries you would like to add in your shopping cart.\n",
      "(Enter 'quit' when you are finished.) chips\n",
      "I will add chips to your shopping cart!\n",
      "\n",
      "The following groceries have been added to your cart:\n",
      "Andrea\n",
      "Chips\n",
      "\n",
      "Enter the type of groceries you would like to add in your shopping cart.\n",
      "(Enter 'quit' when you are finished.) tomatoe\n",
      "I will add tomatoe to your shopping cart!\n",
      "\n",
      "The following groceries have been added to your cart:\n",
      "Andrea\n",
      "Chips\n",
      "Tomatoe\n",
      "\n",
      "Enter the type of groceries you would like to add in your shopping cart.\n",
      "(Enter 'quit' when you are finished.) quit\n"
     ]
    }
   ],
   "source": [
    "#Shopping cart from Tuesday night hw\n",
    "\n",
    "prompt = \"\\nEnter the type of groceries you would like to add in your shopping cart.\"\n",
    "prompt += \"\\n(Enter 'quit' when you are finished.) \"\n",
    "\n",
    "cart = []\n",
    "\n",
    "while True:\n",
    "    user_input = input(prompt)\n",
    "    if user_input == 'quit':\n",
    "        break\n",
    "    else:\n",
    "        print(\"I will add \" + user_input.lower() + \" to your shopping cart!\")\n",
    "        cart.append(user_input)\n",
    "        \n",
    "        print(\"\\nThe following groceries have been added to your cart:\")\n",
    "        for groceries in cart:\n",
    "                print(groceries.title())"
   ]
  },
  {
   "cell_type": "code",
   "execution_count": 1,
   "metadata": {},
   "outputs": [
    {
     "name": "stdout",
     "output_type": "stream",
     "text": [
      "$1\n",
      "$1\n",
      "groceries\n",
      "<bound method shopping_cart.items of <__main__.shopping_cart object at 0x7fddd5b6eb80>>\n",
      "<class '__main__.shopping_cart'>\n"
     ]
    }
   ],
   "source": [
    "# class shopping_cart:\n",
    "    \n",
    "#     def __init__(self, item, price):\n",
    "#         self.item = item\n",
    "#         self.price = price\n",
    "    \n",
    "#     def add_item(self):\n",
    "#         return self.item\n",
    "    \n",
    "#     def add_cost(self):\n",
    "#         return self.price\n",
    "    \n",
    "#     def items(self, apple):\n",
    "#         print(\"apple\")\n",
    "    \n",
    "#     def groceries(self):\n",
    "#         print(\"groceries\")\n",
    "        \n",
    "# s = shopping_cart(\"apples\", \"$1\")\n",
    "# print(s.add_cost())\n",
    "# s2 = shopping_cart(\"chips\", \"$1\" )\n",
    "# print(s2.add_cost())\n",
    "# s.groceries()\n",
    "\n",
    "# print(s.items)\n",
    "# print(type(s))\n",
    "\n",
    "\n",
    "\n",
    "# class person:\n",
    "#     def __init__(self, name, money):\n",
    "#         self.name = name\n",
    "#         self.money = money #0 - 100\n",
    "\n",
    "#     def get_item(self):\n",
    "#         return self.money\n",
    "\n",
    "# class cart:\n",
    "#     def __init__(self, name, items, max_persons):\n",
    "#         self.name = name\n",
    "#         self.items = items\n",
    "#         self.persons = []\n",
    "        \n",
    "#     def add_person(self, person):\n",
    "#         if len(self.persons) < self.persons:\n",
    "#             self.persons.append(person)\n",
    "#             return True\n",
    "#         return False\n",
    "    \n",
    "#     def prices(self):\n",
    "#         pass\n",
    "    \n",
    "# p1 = person(\"Andrea\", \"$50\")\n",
    "# p2 = person(\"Akyanna\", \"$100\")\n",
    "# p3 = person (\"Deglys\", \"75\")\n",
    "\n",
    "# cart = cart(\"list\", \"$80\")\n",
    "# cart.add_money(p1)\n",
    "# cart.add_money(p2)\n",
    "\n",
    "#inheritence\n",
    "# #general class\n",
    "# class person:\n",
    "#     def __init__(self, name, items, price):\n",
    "#         self.name = name\n",
    "#         self.items = items\n",
    "#         self.price = price\n",
    "        \n",
    "#     def show(self):\n",
    "#         print(f\"I am {self.name}, I bought {self.items} with {self.price}.\")\n",
    "        \n",
    "# #specific class\n",
    "# class Andrea(person):\n",
    "#     def bought(self):\n",
    "#         print(\"Cart_One\")\n",
    "        \n",
    "# class Akyanna(person):\n",
    "#     def bought(self):\n",
    "#         print(\"Cart_Two\")\n",
    "\n",
    "# p = person(\"Andrea\", \"apples\", \"$5\")\n",
    "# p.show()\n",
    "\n",
    "#static method \n",
    "# class Math:\n",
    "    \n",
    "#     @staticmethod\n",
    "#     def multiply5(x):\n",
    "#         return x * 5    \n",
    "    \n",
    "# print(Math.multiply5(5))\n",
    "\n"
   ]
  },
  {
   "cell_type": "code",
   "execution_count": null,
   "metadata": {
    "scrolled": false
   },
   "outputs": [
    {
     "name": "stdout",
     "output_type": "stream",
     "text": [
      "\n",
      "Enter the type of groceries you would like to add in your shopping cart.\n",
      "(Enter 'quit' when you are finished.) chips \n",
      "Andrea, you have $75.00 dollars to spend!\n",
      "Type an item to add to your cart. The price will be deducted from your cash.\n",
      "I will add chips  to your shopping cart!\n",
      "\n",
      "The following groceries have been added to your cart:\n",
      "Chips \n",
      "________________________________________________________________________________\n"
     ]
    }
   ],
   "source": [
    "#Actual shopping cart in OOP\n",
    "\n",
    "prompt = \"\\nEnter the type of groceries you would like to add in your shopping cart.\"\n",
    "prompt += \"\\n(Enter 'quit' when you are finished.) \"\n",
    "\n",
    "cart = []\n",
    "\n",
    "class shopping_cart:\n",
    "    def __init__(self):\n",
    "        pass\n",
    "class shoppers:\n",
    "    def __init__(self, name, money):\n",
    "        self.name = name\n",
    "        self.money = money\n",
    "        \n",
    "    def myfunc(self):\n",
    "        while True:\n",
    "            user_input = input(prompt)\n",
    "            if user_input == 'quit':\n",
    "                break\n",
    "            else:\n",
    "                print(f\"{self.name}, you have {self.money} dollars to spend!\")\n",
    "                print(\"Type an item to add to your cart. The price will be deducted from your cash.\")\n",
    "\n",
    "                print(\"I will add \" + user_input.lower() + \" to your shopping cart!\")\n",
    "                cart.append(user_input)\n",
    "\n",
    "                print(\"\\nThe following groceries have been added to your cart:\")\n",
    "                for groceries in cart:\n",
    "                        print(groceries.title())\n",
    "                print(\"_\"*80) \n",
    "                \n",
    "    def subtract(self):\n",
    "\n",
    "            \n",
    "\n",
    "s = shoppers(\"Andrea\", \"$75.00\")\n",
    "s.myfunc()\n",
    "s2 = shoppers(\"Akyanna\", \"$100.00\")\n",
    "s2.myfunc()\n",
    "\n"
   ]
  },
  {
   "cell_type": "code",
   "execution_count": null,
   "metadata": {},
   "outputs": [],
   "source": []
  }
 ],
 "metadata": {
  "kernelspec": {
   "display_name": "Python 3",
   "language": "python",
   "name": "python3"
  },
  "language_info": {
   "codemirror_mode": {
    "name": "ipython",
    "version": 3
   },
   "file_extension": ".py",
   "mimetype": "text/x-python",
   "name": "python",
   "nbconvert_exporter": "python",
   "pygments_lexer": "ipython3",
   "version": "3.9.6"
  }
 },
 "nbformat": 4,
 "nbformat_minor": 2
}
